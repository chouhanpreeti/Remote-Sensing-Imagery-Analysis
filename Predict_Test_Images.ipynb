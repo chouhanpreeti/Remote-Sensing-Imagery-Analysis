{
  "nbformat": 4,
  "nbformat_minor": 0,
  "metadata": {
    "colab": {
      "provenance": []
    },
    "kernelspec": {
      "name": "python3",
      "display_name": "Python 3"
    },
    "language_info": {
      "name": "python"
    }
  },
  "cells": [
    {
      "cell_type": "code",
      "source": [
        "from google.colab import drive\n",
        "drive.mount('/content/drive')"
      ],
      "metadata": {
        "colab": {
          "base_uri": "https://localhost:8080/"
        },
        "id": "j2rEF63eA2wR",
        "outputId": "45427e8c-0a91-424b-9984-17fd5c2c4fab"
      },
      "execution_count": 4,
      "outputs": [
        {
          "output_type": "stream",
          "name": "stdout",
          "text": [
            "Mounted at /content/drive\n"
          ]
        }
      ]
    },
    {
      "cell_type": "code",
      "source": [
        "import torchvision.transforms as transforms\n",
        "import torch\n",
        "import PIL.Image as Image "
      ],
      "metadata": {
        "id": "Lz29pAQ5B9Gt"
      },
      "execution_count": 5,
      "outputs": []
    },
    {
      "cell_type": "code",
      "source": [
        "def predict_image_class(model, img_path, classes):\n",
        "\n",
        "  img_transforms = transforms.Compose([transforms.Resize([64,64]),\n",
        "                                      transforms.ToTensor(),\n",
        "                                      transforms.Normalize(mean=[0.5, 0.5, 0.5],\n",
        "                                     std=[0.5, 0.5, 0.5])\n",
        "                                     ])\n",
        "  model = model.eval()\n",
        "  image = Image.open(img_path)\n",
        "  image = img_transforms(image).float()\n",
        "  image = image.unsqueeze(0)\n",
        "\n",
        "  output = model(image)\n",
        "  _, predicted = torch.max(output.data,1)\n",
        "\n",
        "  return classes[predicted.item()]"
      ],
      "metadata": {
        "id": "45863rQaB7zF"
      },
      "execution_count": 6,
      "outputs": []
    },
    {
      "cell_type": "code",
      "execution_count": 10,
      "metadata": {
        "colab": {
          "base_uri": "https://localhost:8080/"
        },
        "id": "Oy8TpVVIAFpY",
        "outputId": "b95bbc8b-151d-40fa-eea8-e19af236e679"
      },
      "outputs": [
        {
          "output_type": "stream",
          "name": "stdout",
          "text": [
            "The predicted class is  water\n"
          ]
        }
      ],
      "source": [
        "#  get the desired model weights from the drive link already shared \n",
        "path_to_saved_model = '/content/drive/MyDrive/COMP6721_GROUP_N/Satellite Dataset Weights/satellite_dataset_VGG_FINAL_MODEL_WEIGHTS.pth'\n",
        "\n",
        "# Test Image Path\n",
        "img_path = '/content/drive/MyDrive/COMP6721_GROUP_N/test_images/water_body_100.jpg'\n",
        "\n",
        "# LOAD THE MODEL WEIGHTS\n",
        "model  = torch.load(path_to_saved_model, map_location=torch.device('cpu'))\n",
        "\n",
        "\n",
        "#  uncomment for Satellite Datatset Classes\n",
        "classes = ['cloudy','desert','green_area','water']  \n",
        "\n",
        "#  uncomment for LandUse Datatset Classes\n",
        "# classes = ['agricultural', 'airplane', 'baseballdiamond', 'beach', 'buildings', 'chaparral', 'denseresidential', 'forest', 'freeway', 'golfcourse', 'harbor', 'intersection', 'mediumresidential', 'mobilehomepark', 'overpass', 'parkinglot', 'river', 'runway', 'sparseresidential', 'storagetanks', 'tenniscourt']\n",
        "\n",
        "#  uncomment for EUROSAT Datatset Classes\n",
        "# classes = ['AnnualCrop','Forest', 'HerbaceousVegetation', 'Highway', 'Industrial', 'Pasture', 'PermanentCrop', 'Residential', 'River', 'SeaLake']\n",
        "\n",
        "print(\"The predicted class is \" , predict_image_class(model, img_path, classes))"
      ]
    },
    {
      "cell_type": "code",
      "source": [],
      "metadata": {
        "id": "aHIDYMBwCJOx"
      },
      "execution_count": null,
      "outputs": []
    }
  ]
}